{
 "cells": [
  {
   "cell_type": "code",
   "execution_count": 2,
   "metadata": {},
   "outputs": [],
   "source": [
    "import random\n",
    "from lab1 import TextbookStack, apply_sequence, breadth_first_search, depth_first_search\n",
    "\n",
    "\n",
    "def random_stack(n):\n",
    "    order = list(range(n))\n",
    "    random.shuffle(order)\n",
    "    orientations = [random.randint(0, 1) for _ in range(n)]\n",
    "    return TextbookStack(order, orientations)\n"
   ]
  },
  {
   "cell_type": "code",
   "execution_count": 3,
   "metadata": {},
   "outputs": [],
   "source": [
    "def average_flips(search_fn, n, trials=20):\n",
    "    \"\"\"\n",
    "    Runs search_fn (BFS or DFS) on `trials` random stacks of size n\n",
    "    and returns the average number of flips in the solution.\n",
    "    \"\"\"\n",
    "    total_flips = 0\n",
    "    for _ in range(trials):\n",
    "        stack = random_stack(n)\n",
    "        seq = search_fn(stack)\n",
    "        total_flips += len(seq)\n",
    "    return total_flips / trials\n"
   ]
  },
  {
   "cell_type": "code",
   "execution_count": 5,
   "metadata": {},
   "outputs": [
    {
     "ename": "KeyboardInterrupt",
     "evalue": "",
     "output_type": "error",
     "traceback": [
      "\u001b[0;31m---------------------------------------------------------------------------\u001b[0m",
      "\u001b[0;31mKeyboardInterrupt\u001b[0m                         Traceback (most recent call last)",
      "Cell \u001b[0;32mIn[5], line 6\u001b[0m\n\u001b[1;32m      3\u001b[0m ns \u001b[38;5;241m=\u001b[39m [\u001b[38;5;241m2\u001b[39m, \u001b[38;5;241m3\u001b[39m, \u001b[38;5;241m4\u001b[39m, \u001b[38;5;241m5\u001b[39m, \u001b[38;5;241m6\u001b[39m]  \u001b[38;5;66;03m# values of n\u001b[39;00m\n\u001b[1;32m      5\u001b[0m \u001b[38;5;66;03m# Compute averages\u001b[39;00m\n\u001b[0;32m----> 6\u001b[0m bfs_averages \u001b[38;5;241m=\u001b[39m [average_flips(breadth_first_search, n) \u001b[38;5;28;01mfor\u001b[39;00m n \u001b[38;5;129;01min\u001b[39;00m ns]\n\u001b[1;32m      7\u001b[0m dfs_averages \u001b[38;5;241m=\u001b[39m [average_flips(depth_first_search, n) \u001b[38;5;28;01mfor\u001b[39;00m n \u001b[38;5;129;01min\u001b[39;00m ns]\n\u001b[1;32m      9\u001b[0m \u001b[38;5;66;03m# ---- BFS Figure ----\u001b[39;00m\n",
      "Cell \u001b[0;32mIn[3], line 9\u001b[0m, in \u001b[0;36maverage_flips\u001b[0;34m(search_fn, n, trials)\u001b[0m\n\u001b[1;32m      7\u001b[0m \u001b[38;5;28;01mfor\u001b[39;00m _ \u001b[38;5;129;01min\u001b[39;00m \u001b[38;5;28mrange\u001b[39m(trials):\n\u001b[1;32m      8\u001b[0m     stack \u001b[38;5;241m=\u001b[39m random_stack(n)\n\u001b[0;32m----> 9\u001b[0m     seq \u001b[38;5;241m=\u001b[39m search_fn(stack)\n\u001b[1;32m     10\u001b[0m     total_flips \u001b[38;5;241m+\u001b[39m\u001b[38;5;241m=\u001b[39m \u001b[38;5;28mlen\u001b[39m(seq)\n\u001b[1;32m     11\u001b[0m \u001b[38;5;28;01mreturn\u001b[39;00m total_flips \u001b[38;5;241m/\u001b[39m trials\n",
      "File \u001b[0;32m~/cs360_lab1/lab1.py:64\u001b[0m, in \u001b[0;36mbreadth_first_search\u001b[0;34m(stack)\u001b[0m\n\u001b[1;32m     62\u001b[0m key \u001b[38;5;241m=\u001b[39m (\u001b[38;5;28mlist\u001b[39m(current_stack\u001b[38;5;241m.\u001b[39morder), \u001b[38;5;28mlist\u001b[39m(current_stack\u001b[38;5;241m.\u001b[39morientations))\n\u001b[1;32m     63\u001b[0m \u001b[38;5;28;01mif\u001b[39;00m key \u001b[38;5;129;01min\u001b[39;00m visited:\n\u001b[0;32m---> 64\u001b[0m     \u001b[38;5;28;01mcontinue\u001b[39;00m\n\u001b[1;32m     65\u001b[0m visited\u001b[38;5;241m.\u001b[39mappend(key)\n\u001b[1;32m     67\u001b[0m \u001b[38;5;28;01mfor\u001b[39;00m pos \u001b[38;5;129;01min\u001b[39;00m \u001b[38;5;28mrange\u001b[39m(\u001b[38;5;241m1\u001b[39m, current_stack\u001b[38;5;241m.\u001b[39mnum_books \u001b[38;5;241m+\u001b[39m \u001b[38;5;241m1\u001b[39m):\n",
      "\u001b[0;31mKeyboardInterrupt\u001b[0m: "
     ]
    }
   ],
   "source": [
    "import matplotlib.pyplot as plt\n",
    "\n",
    "ns = [2, 3, 4, 5, 6]  # values of n\n",
    "\n",
    "# Compute averages\n",
    "bfs_averages = [average_flips(breadth_first_search, n) for n in ns]\n",
    "dfs_averages = [average_flips(depth_first_search, n) for n in ns]\n",
    "\n",
    "# ---- BFS Figure ----\n",
    "plt.plot(ns, bfs_averages, marker=\"o\", label=\"BFS\")\n",
    "plt.xlabel(\"n (number of books)\")\n",
    "plt.ylabel(\"Average flips\")\n",
    "plt.title(\"BFS Average Flips vs n\")\n",
    "plt.grid(True)\n",
    "plt.savefig(\"bfs_plot.png\")  # saves image to file\n",
    "plt.show()\n",
    "plt.close()\n",
    "\n",
    "# ---- DFS Figure ----\n",
    "plt.plot(ns, dfs_averages, marker=\"o\", color=\"orange\", label=\"DFS\")\n",
    "plt.xlabel(\"n (number of books)\")\n",
    "plt.ylabel(\"Average flips\")\n",
    "plt.title(\"DFS Average Flips vs n\")\n",
    "plt.grid(True)\n",
    "plt.savefig(\"dfs_plot.png\")  # saves image to file\n",
    "plt.show()\n",
    "plt.close()\n"
   ]
  }
 ],
 "metadata": {
  "kernelspec": {
   "display_name": "Python 3",
   "language": "python",
   "name": "python3"
  },
  "language_info": {
   "codemirror_mode": {
    "name": "ipython",
    "version": 3
   },
   "file_extension": ".py",
   "mimetype": "text/x-python",
   "name": "python",
   "nbconvert_exporter": "python",
   "pygments_lexer": "ipython3",
   "version": "3.12.7"
  }
 },
 "nbformat": 4,
 "nbformat_minor": 2
}
